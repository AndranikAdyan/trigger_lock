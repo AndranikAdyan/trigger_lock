{
 "cells": [
  {
   "cell_type": "markdown",
   "metadata": {},
   "source": [
    "# Model"
   ]
  },
  {
   "cell_type": "code",
   "execution_count": 1,
   "metadata": {},
   "outputs": [],
   "source": [
    "#type: ignore\n",
    "import pandas as pd\n",
    "import numpy as np\n",
    "import re\n",
    "from sklearn.model_selection import train_test_split\n",
    "from sklearn.feature_extraction.text import TfidfVectorizer\n",
    "from sklearn.metrics import accuracy_score\n",
    "\n",
    "from sklearn.naive_bayes import MultinomialNB\n",
    "from sklearn.linear_model import LogisticRegression\n",
    "from sklearn.ensemble import RandomForestClassifier\n",
    "from sklearn.svm import SVC\n",
    "from sklearn.ensemble import GradientBoostingClassifier"
   ]
  },
  {
   "cell_type": "code",
   "execution_count": 2,
   "metadata": {},
   "outputs": [],
   "source": [
    "data = pd.read_csv(\"./datasets/phishing_email.csv\")"
   ]
  },
  {
   "cell_type": "code",
   "execution_count": 3,
   "metadata": {},
   "outputs": [],
   "source": [
    "pd.set_option('display.max_colwidth', None)"
   ]
  },
  {
   "cell_type": "code",
   "execution_count": 4,
   "metadata": {},
   "outputs": [
    {
     "data": {
      "text/html": [
       "<div>\n",
       "<style scoped>\n",
       "    .dataframe tbody tr th:only-of-type {\n",
       "        vertical-align: middle;\n",
       "    }\n",
       "\n",
       "    .dataframe tbody tr th {\n",
       "        vertical-align: top;\n",
       "    }\n",
       "\n",
       "    .dataframe thead th {\n",
       "        text-align: right;\n",
       "    }\n",
       "</style>\n",
       "<table border=\"1\" class=\"dataframe\">\n",
       "  <thead>\n",
       "    <tr style=\"text-align: right;\">\n",
       "      <th></th>\n",
       "      <th>Email Text</th>\n",
       "      <th>Email Type</th>\n",
       "    </tr>\n",
       "  </thead>\n",
       "  <tbody>\n",
       "    <tr>\n",
       "      <th>0</th>\n",
       "      <td>re : 6 . 1100 , disc : uniformitarianism , re : 1086 ; sex / lang dick hudson 's observations on us use of 's on ' but not 'd aughter ' as a vocative are very thought-provoking , but i am not sure that it is fair to attribute this to \" sons \" being \" treated like senior relatives \" . for one thing , we do n't normally use ' brother ' in this way any more than we do 'd aughter ' , and it is hard to imagine a natural class comprising senior relatives and 's on ' but excluding ' brother ' . for another , there seem to me to be differences here . if i am not imagining a distinction that is not there , it seems to me that the senior relative terms are used in a wider variety of contexts , e . g . , calling out from a distance to get someone 's attention , and hence at the beginning of an utterance , whereas 's on ' seems more natural in utterances like ' yes , son ' , ' hand me that , son ' than in ones like ' son ! ' or ' son , help me ! ' ( although perhaps these latter ones are not completely impossible ) . alexis mr</td>\n",
       "      <td>Safe Email</td>\n",
       "    </tr>\n",
       "    <tr>\n",
       "      <th>1</th>\n",
       "      <td>the other side of * galicismos * * galicismo * is a spanish term which names the improper introduction of french words which are spanish sounding and thus very deceptive to the ear . * galicismo * is often considered to be a * barbarismo * . what would be the term which designates the opposite phenomenon , that is unlawful words of spanish origin which may have crept into french ? can someone provide examples ? thank you joseph m kozono &lt; kozonoj @ gunet . georgetown . edu &gt;</td>\n",
       "      <td>Safe Email</td>\n",
       "    </tr>\n",
       "    <tr>\n",
       "      <th>2</th>\n",
       "      <td>re : equistar deal tickets are you still available to assist robert with entering the new deal tickets for equistar ? after talking with bryan hull and anita luong , kyle and i decided we only need 1 additional sale ticket and 1 additional buyback ticket set up . - - - - - - - - - - - - - - - - - - - - - - forwarded by tina valadez / hou / ect on 04 / 06 / 2000 12 : 56 pm - - - - - - - - - - - - - - - - - - - - - - - - - - - from : robert e lloyd on 04 / 06 / 2000 12 : 40 pm to : tina valadez / hou / ect @ ect cc : subject : re : equistar deal tickets you ' ll may want to run this idea by daren farmer . i don ' t normally add tickets into sitara . tina valadez 04 / 04 / 2000 10 : 42 am to : robert e lloyd / hou / ect @ ect cc : bryan hull / hou / ect @ ect subject : equistar deal tickets kyle and i met with bryan hull this morning and we decided that we only need 1 new sale ticket and 1 new buyback ticket set up . the time period for both tickets should be july 1999 - forward . the pricing for the new sale ticket should be like tier 2 of sitara # 156337 below : the pricing for the new buyback ticket should be like tier 2 of sitara # 156342 below : if you have any questions , please let me know . thanks , tina valadez 3 - 7548</td>\n",
       "      <td>Safe Email</td>\n",
       "    </tr>\n",
       "    <tr>\n",
       "      <th>3</th>\n",
       "      <td>\\nHello I am your hot lil horny toy.\\n    I am the one you dream About,\\n    I am a very open minded person,\\n    Love to talk about and any subject.\\n    Fantasy is my way of life, \\n    Ultimate in sex play.     Ummmmmmmmmmmmmm\\n     I am Wet and ready for you.     It is not your looks but your imagination that matters most,\\n     With My sexy voice I can make your dream come true...\\n  \\n     Hurry Up! call me let me Cummmmm for you..........................\\nTOLL-FREE:             1-877-451-TEEN (1-877-451-8336)For phone billing:     1-900-993-2582\\n-- \\n_______________________________________________\\nSign-up for your own FREE Personalized E-mail at Mail.com\\nhttp://www.mail.com/?sr=signup</td>\n",
       "      <td>Phishing Email</td>\n",
       "    </tr>\n",
       "    <tr>\n",
       "      <th>4</th>\n",
       "      <td>software at incredibly low prices ( 86 % lower ) . drapery seventeen term represent any sing . feet wild break able build . tail , send subtract represent . job cow student inch gave . let still warm , family draw , land book . glass plan include . sentence is , hat silent nothing . order , wild famous long their . inch such , saw , person , save . face , especially sentence science . certain , cry does . two depend yes , written carry .</td>\n",
       "      <td>Phishing Email</td>\n",
       "    </tr>\n",
       "    <tr>\n",
       "      <th>...</th>\n",
       "      <td>...</td>\n",
       "      <td>...</td>\n",
       "    </tr>\n",
       "    <tr>\n",
       "      <th>18645</th>\n",
       "      <td>date a lonely housewife always wanted to date a lonely housewife ? well this is your chance . thousands of lonely housewifes are waiting for you at cheating housewife personals . go here : www . liveadulthosting . biz / lm / signup . php</td>\n",
       "      <td>Phishing Email</td>\n",
       "    </tr>\n",
       "    <tr>\n",
       "      <th>18646</th>\n",
       "      <td>request submitted : access request for anita . dupont @ enron . com you have received this email because you are listed as an alternate data approver . please click approval to review and act upon this request . request id : 000000000012735 approver : stinson . gibner @ enron . com request create date : 1 / 8 / 01 4 : 26 : 26 pm requested for : anita . dupont @ enron . com resource name : \\ \\ enehou \\ houston \\ common \\ research - [ read / write ] resource type : directory</td>\n",
       "      <td>Safe Email</td>\n",
       "    </tr>\n",
       "    <tr>\n",
       "      <th>18647</th>\n",
       "      <td>re : important - prc mtg hi dorn &amp; john , as you discovered recently , i am still ' officially ' in vince kaminski ' s group ( my original enron corp . group ) . this holds true for shalesh ganjoo as well . i did not explicitly pick dorn or john as reviewers thinking that they will show up automatically as a result of my assumed reporting structure . so , vince has agreed to ' host ' the review in his group and proceed to transfer me over to ebs officially when this quarter is overs ( apprently that was scheduled to be automatic ) . in the mean time , vasant , stinson or vince would like to get a e - mail from either dorn or john regarding my performance from their perspective for consideration as soon as possible . i had plan on being on vacation starting tomorrow and have made arrangement with my family already . since i am not reviewing shalesh directly ( since he is in research under stionson ) , i am assuming i don ' t have to attend the review meetin tommorrow . i ' ll be on the road starting in the morning . if i change this , i am told at home , that i will be in the market for another family ! i can phone in if that is okay . kayla , could you page me with the details ? regards , ravi .</td>\n",
       "      <td>Safe Email</td>\n",
       "    </tr>\n",
       "    <tr>\n",
       "      <th>18648</th>\n",
       "      <td>press clippings - letter on californian utilities please find attached the following article : ' californian utilities ' - financial times ( also sent to california distribution team ) kind regards , kuldeep chana</td>\n",
       "      <td>Safe Email</td>\n",
       "    </tr>\n",
       "    <tr>\n",
       "      <th>18649</th>\n",
       "      <td>empty</td>\n",
       "      <td>Phishing Email</td>\n",
       "    </tr>\n",
       "  </tbody>\n",
       "</table>\n",
       "<p>18650 rows × 2 columns</p>\n",
       "</div>"
      ],
      "text/plain": [
       "                                                                                                                                                                                                                                                                                                                                                                                                                                                                                                                                                                                                                                                                                                                                                                                                                                                                                                                                                                                                                                                                                                                                                                                                                                                                                          Email Text  \\\n",
       "0                                                                                                                                                                                                                             re : 6 . 1100 , disc : uniformitarianism , re : 1086 ; sex / lang dick hudson 's observations on us use of 's on ' but not 'd aughter ' as a vocative are very thought-provoking , but i am not sure that it is fair to attribute this to \" sons \" being \" treated like senior relatives \" . for one thing , we do n't normally use ' brother ' in this way any more than we do 'd aughter ' , and it is hard to imagine a natural class comprising senior relatives and 's on ' but excluding ' brother ' . for another , there seem to me to be differences here . if i am not imagining a distinction that is not there , it seems to me that the senior relative terms are used in a wider variety of contexts , e . g . , calling out from a distance to get someone 's attention , and hence at the beginning of an utterance , whereas 's on ' seems more natural in utterances like ' yes , son ' , ' hand me that , son ' than in ones like ' son ! ' or ' son , help me ! ' ( although perhaps these latter ones are not completely impossible ) . alexis mr   \n",
       "1                                                                                                                                                                                                                                                                                                                                                                                                                                                                                                                                                                                                                                                                                                                                                                                                    the other side of * galicismos * * galicismo * is a spanish term which names the improper introduction of french words which are spanish sounding and thus very deceptive to the ear . * galicismo * is often considered to be a * barbarismo * . what would be the term which designates the opposite phenomenon , that is unlawful words of spanish origin which may have crept into french ? can someone provide examples ? thank you joseph m kozono < kozonoj @ gunet . georgetown . edu >   \n",
       "2      re : equistar deal tickets are you still available to assist robert with entering the new deal tickets for equistar ? after talking with bryan hull and anita luong , kyle and i decided we only need 1 additional sale ticket and 1 additional buyback ticket set up . - - - - - - - - - - - - - - - - - - - - - - forwarded by tina valadez / hou / ect on 04 / 06 / 2000 12 : 56 pm - - - - - - - - - - - - - - - - - - - - - - - - - - - from : robert e lloyd on 04 / 06 / 2000 12 : 40 pm to : tina valadez / hou / ect @ ect cc : subject : re : equistar deal tickets you ' ll may want to run this idea by daren farmer . i don ' t normally add tickets into sitara . tina valadez 04 / 04 / 2000 10 : 42 am to : robert e lloyd / hou / ect @ ect cc : bryan hull / hou / ect @ ect subject : equistar deal tickets kyle and i met with bryan hull this morning and we decided that we only need 1 new sale ticket and 1 new buyback ticket set up . the time period for both tickets should be july 1999 - forward . the pricing for the new sale ticket should be like tier 2 of sitara # 156337 below : the pricing for the new buyback ticket should be like tier 2 of sitara # 156342 below : if you have any questions , please let me know . thanks , tina valadez 3 - 7548   \n",
       "3                                                                                                                                                                                                                                                                                                                                                                                                                                                                                                                                                                    \\nHello I am your hot lil horny toy.\\n    I am the one you dream About,\\n    I am a very open minded person,\\n    Love to talk about and any subject.\\n    Fantasy is my way of life, \\n    Ultimate in sex play.     Ummmmmmmmmmmmmm\\n     I am Wet and ready for you.     It is not your looks but your imagination that matters most,\\n     With My sexy voice I can make your dream come true...\\n  \\n     Hurry Up! call me let me Cummmmm for you..........................\\nTOLL-FREE:             1-877-451-TEEN (1-877-451-8336)For phone billing:     1-900-993-2582\\n-- \\n_______________________________________________\\nSign-up for your own FREE Personalized E-mail at Mail.com\\nhttp://www.mail.com/?sr=signup   \n",
       "4                                                                                                                                                                                                                                                                                                                                                                                                                                                                                                                                                                                                                                                                                                                                                                                                                                          software at incredibly low prices ( 86 % lower ) . drapery seventeen term represent any sing . feet wild break able build . tail , send subtract represent . job cow student inch gave . let still warm , family draw , land book . glass plan include . sentence is , hat silent nothing . order , wild famous long their . inch such , saw , person , save . face , especially sentence science . certain , cry does . two depend yes , written carry .   \n",
       "...                                                                                                                                                                                                                                                                                                                                                                                                                                                                                                                                                                                                                                                                                                                                                                                                                                                                                                                                                                                                                                                                                                                                                                                                                                                                                              ...   \n",
       "18645                                                                                                                                                                                                                                                                                                                                                                                                                                                                                                                                                                                                                                                                                                                                                                                                                                                                                                                                                                                                                                                  date a lonely housewife always wanted to date a lonely housewife ? well this is your chance . thousands of lonely housewifes are waiting for you at cheating housewife personals . go here : www . liveadulthosting . biz / lm / signup . php   \n",
       "18646                                                                                                                                                                                                                                                                                                                                                                                                                                                                                                                                                                                                                                                                                                                                                                                                  request submitted : access request for anita . dupont @ enron . com you have received this email because you are listed as an alternate data approver . please click approval to review and act upon this request . request id : 000000000012735 approver : stinson . gibner @ enron . com request create date : 1 / 8 / 01 4 : 26 : 26 pm requested for : anita . dupont @ enron . com resource name : \\ \\ enehou \\ houston \\ common \\ research - [ read / write ] resource type : directory   \n",
       "18647                                 re : important - prc mtg hi dorn & john , as you discovered recently , i am still ' officially ' in vince kaminski ' s group ( my original enron corp . group ) . this holds true for shalesh ganjoo as well . i did not explicitly pick dorn or john as reviewers thinking that they will show up automatically as a result of my assumed reporting structure . so , vince has agreed to ' host ' the review in his group and proceed to transfer me over to ebs officially when this quarter is overs ( apprently that was scheduled to be automatic ) . in the mean time , vasant , stinson or vince would like to get a e - mail from either dorn or john regarding my performance from their perspective for consideration as soon as possible . i had plan on being on vacation starting tomorrow and have made arrangement with my family already . since i am not reviewing shalesh directly ( since he is in research under stionson ) , i am assuming i don ' t have to attend the review meetin tommorrow . i ' ll be on the road starting in the morning . if i change this , i am told at home , that i will be in the market for another family ! i can phone in if that is okay . kayla , could you page me with the details ? regards , ravi .   \n",
       "18648                                                                                                                                                                                                                                                                                                                                                                                                                                                                                                                                                                                                                                                                                                                                                                                                                                                                                                                                                                                                                                                                          press clippings - letter on californian utilities please find attached the following article : ' californian utilities ' - financial times ( also sent to california distribution team ) kind regards , kuldeep chana   \n",
       "18649                                                                                                                                                                                                                                                                                                                                                                                                                                                                                                                                                                                                                                                                                                                                                                                                                                                                                                                                                                                                                                                                                                                                                                                                                                                                                          empty   \n",
       "\n",
       "           Email Type  \n",
       "0          Safe Email  \n",
       "1          Safe Email  \n",
       "2          Safe Email  \n",
       "3      Phishing Email  \n",
       "4      Phishing Email  \n",
       "...               ...  \n",
       "18645  Phishing Email  \n",
       "18646      Safe Email  \n",
       "18647      Safe Email  \n",
       "18648      Safe Email  \n",
       "18649  Phishing Email  \n",
       "\n",
       "[18650 rows x 2 columns]"
      ]
     },
     "execution_count": 4,
     "metadata": {},
     "output_type": "execute_result"
    }
   ],
   "source": [
    "data = data.drop(\"Unnamed: 0\", axis=1)\n",
    "data"
   ]
  },
  {
   "cell_type": "code",
   "execution_count": 5,
   "metadata": {},
   "outputs": [],
   "source": [
    "def clean_text(text):\n",
    "\ttext = str(text)\n",
    "\ttext = text.lower()\n",
    "\ttext = re.sub(r'[^A-Za-z\\s]', '', text)\n",
    "\ttext = re.sub(r'\\n', ' ', text)\n",
    "\treturn text\n",
    "\n",
    "data = data.rename(columns={\"Email Text\": \"email_content\", \"Email Type\": \"email_type\"})\n",
    "data[\"email_content\"] = data[\"email_content\"].apply(clean_text)\n",
    "data['email_type'] = data['email_type'].map({'Safe Email': 0, 'Phishing Email': 1})\n",
    "\n",
    "data = data[data[\"email_content\"].str.strip() != \"empty\"]"
   ]
  },
  {
   "cell_type": "code",
   "execution_count": 6,
   "metadata": {},
   "outputs": [],
   "source": [
    "X = data['email_content']\n",
    "y = data['email_type']\n",
    "X_train, X_test, y_train, y_test = train_test_split(X, y, test_size=0.2, random_state=42)"
   ]
  },
  {
   "cell_type": "code",
   "execution_count": 7,
   "metadata": {},
   "outputs": [],
   "source": [
    "vectorizer = TfidfVectorizer(stop_words='english', max_features=5000)\n",
    "X_train_tfidf = vectorizer.fit_transform(X_train)\n",
    "X_test_tfidf = vectorizer.transform(X_test)"
   ]
  },
  {
   "cell_type": "code",
   "execution_count": 8,
   "metadata": {},
   "outputs": [],
   "source": [
    "nb_model = MultinomialNB()\n",
    "lr_model = LogisticRegression()\n",
    "rf_model = RandomForestClassifier()\n",
    "svm_model = SVC()\n",
    "gb_model = GradientBoostingClassifier()"
   ]
  },
  {
   "cell_type": "code",
   "execution_count": 9,
   "metadata": {},
   "outputs": [],
   "source": [
    "def test_model(model):\n",
    "\tmodel.fit(X_train_tfidf, y_train)\n",
    "\ty_pred = model.predict(X_test_tfidf)\n",
    "\n",
    "\tprint(f'{str(model.get_metadata_routing).split(\" \")[-1][:-3]} accuracy: {accuracy_score(y_test, y_pred)}')\n"
   ]
  },
  {
   "cell_type": "code",
   "execution_count": 10,
   "metadata": {},
   "outputs": [
    {
     "name": "stdout",
     "output_type": "stream",
     "text": [
      "SVC accuracy: 0.9804083885209713\n"
     ]
    }
   ],
   "source": [
    "# test_model(nb_model)\n",
    "# test_model(lr_model)\n",
    "# test_model(rf_model)\n",
    "test_model(svm_model)\n",
    "# test_model(gb_model)"
   ]
  },
  {
   "cell_type": "code",
   "execution_count": 24,
   "metadata": {},
   "outputs": [],
   "source": [
    "def test_model_email(model):\n",
    "\ttest_mail = [\"\"\"See how companies are moving fast and confidently with secure gen AI Join us at AWS Innovate to discover how Amazon Web Services (AWS) can help you harness the full potential of generative AI and data. Learn about the tools and infrastructure needed to build and scale gen AI, how to make your data AI-ready, and create gen AI applications that drive real business value. See how customers are using the most comprehensive set of AI and data services on AWS to innovate faster and build a competitive advantage with gen AI.\"\"\"]\n",
    "\ttest_mail = clean_text(test_mail[0])\n",
    "\ttest_mail = vectorizer.transform([test_mail])\n",
    "\n",
    "\tmodel_name = str(model.get_metadata_routing).split(\" \")[-1][:-3]\n",
    "\tprint(f\"{model_name} detected email as pishing\" if model.predict(test_mail)[0] else f\"{model_name} detected email as safe\")"
   ]
  },
  {
   "cell_type": "code",
   "execution_count": 25,
   "metadata": {},
   "outputs": [
    {
     "name": "stdout",
     "output_type": "stream",
     "text": [
      "SVC detected email as safe\n"
     ]
    }
   ],
   "source": [
    "# test_model_email(nb_model)\n",
    "# test_model_email(lr_model)\n",
    "# test_model_email(rf_model)\n",
    "test_model_email(svm_model)"
   ]
  },
  {
   "cell_type": "code",
   "execution_count": 26,
   "metadata": {},
   "outputs": [
    {
     "name": "stdout",
     "output_type": "stream",
     "text": [
      "Done!\n"
     ]
    }
   ],
   "source": [
    "import joblib\n",
    "\n",
    "joblib.dump(svm_model, \"saved_data/svm_model.pkl\")\n",
    "joblib.dump(vectorizer, \"saved_data/tfidf_vectorizer.pkl\")\n",
    "print(\"Done!\")"
   ]
  },
  {
   "cell_type": "markdown",
   "metadata": {},
   "source": [
    "# Server"
   ]
  },
  {
   "cell_type": "code",
   "execution_count": 14,
   "metadata": {},
   "outputs": [],
   "source": [
    "import socket\n",
    "import signal\n",
    "\n",
    "def handle_interrupt(signum, frame):\n",
    "\tconn.close()\n",
    "\tprint(\"Cell execution interrupted!\")\n",
    "\n",
    "signal.signal(signal.SIGINT, handle_interrupt)\n",
    "\n",
    "sock = socket.socket(socket.AF_INET, socket.SOCK_STREAM) # socket.AF_INET->ipv4, socket.SOCK_STREAM->tcp connection\n",
    "sock.bind((\"\", 3001)) # Listen \"\"->all interfaces, 9000->port\n",
    "sock.listen(5) # max count of connections\n",
    "\n",
    "while True:\n",
    "\tconn, addr = sock.accept() # conn->new socket object, \n",
    "\tprint ('connected:', addr)\n",
    "\n",
    "\tdata = conn.recv(4096)\n",
    "\tif not data:\n",
    "\t\tbreak\n",
    "\tdata = data.decode()\n",
    "\tif data == \"exit\": #-----------------------------------------\n",
    "\t\tbreak\n",
    "\tdata = clean_text(data)\n",
    "\tdata = vectorizer.transform([data])\n",
    "\n",
    "\tif svm_model.predict(data)[0]:\n",
    "\t\tconn.send(b\"pishing\")\n",
    "\telse:\n",
    "\t\tconn.send(b\"safe\")\n",
    "\n",
    "conn.close()"
   ]
  }
 ],
 "metadata": {
  "kernelspec": {
   "display_name": "venv",
   "language": "python",
   "name": "python3"
  },
  "language_info": {
   "codemirror_mode": {
    "name": "ipython",
    "version": 3
   },
   "file_extension": ".py",
   "mimetype": "text/x-python",
   "name": "python",
   "nbconvert_exporter": "python",
   "pygments_lexer": "ipython3",
   "version": "3.13.2"
  }
 },
 "nbformat": 4,
 "nbformat_minor": 2
}
